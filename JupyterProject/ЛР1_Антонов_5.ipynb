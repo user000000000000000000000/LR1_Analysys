{
 "cells": [
  {
   "cell_type": "markdown",
   "metadata": {
    "id": "bri_pAriNFqN"
   },
   "source": [
    "**Цель работы:**\n",
    "\n",
    "Осуществить предварительную обработку данных csv-файла, выявить и устранить проблемы в этих данных."
   ]
  },
  {
   "cell_type": "markdown",
   "source": [
    "# Загрузка набора данных"
   ],
   "metadata": {
    "id": "r_e-GeJmgZ8l"
   }
  },
  {
   "cell_type": "markdown",
   "source": [
    "### Описание предметной области"
   ],
   "metadata": {
    "id": "eeq9ZAbSguQS"
   }
  },
  {
   "cell_type": "markdown",
   "source": [
    "Вариант №5\n",
    "\n",
    "Набор данных: visits.csv\n",
    "\n",
    "Атрибуты:\n",
    "Данные пользовательских сессии магазина:\n",
    "1. уникальный идентификатор пользователя\n",
    "2. страна пользователя\n",
    "3. устройство пользователя\n",
    "4. идентификатор рекламного источника, из которого пришел пользователь\n",
    "5. дата и время начала сессии\n",
    "6. дата и время окончания сессии"
   ],
   "metadata": {
    "id": "XHbH8zNIg0Ib"
   }
  },
  {
   "cell_type": "markdown",
   "source": [
    "### 1.Чтение файла (набора данных)"
   ],
   "metadata": {
    "id": "Lwin9ia7hT1i"
   }
  },
  {
   "cell_type": "code",
   "source": [
    "import pandas as pd\n",
    "\n",
    "df = pd.read_csv('visits.csv', sep=';')"
   ],
   "metadata": {
    "id": "a5dYQO5YhOYa",
    "jupyter": {
     "is_executing": true
    }
   },
   "outputs": [],
   "execution_count": null
  },
  {
   "cell_type": "markdown",
   "source": [
    "### 2. Обзор данных"
   ],
   "metadata": {
    "id": "p82p53SvhjLN"
   }
  },
  {
   "cell_type": "markdown",
   "source": [
    "2.1 Вывод первых 20 строк с помощью метода head."
   ],
   "metadata": {
    "id": "eAYzXaLrh-qh"
   }
  },
  {
   "cell_type": "code",
   "source": "df.head(20)",
   "metadata": {
    "id": "7yMo3VZ_hotx",
    "jupyter": {
     "is_executing": true
    }
   },
   "outputs": [],
   "execution_count": null
  },
  {
   "cell_type": "markdown",
   "source": [
    "2.2 Оценка данных с помощью метода info."
   ],
   "metadata": {
    "id": "Ze-lXxLMhpWv"
   }
  },
  {
   "cell_type": "code",
   "source": "df.info()",
   "metadata": {
    "id": "bjhngmaLiGM-",
    "jupyter": {
     "is_executing": true
    }
   },
   "outputs": [],
   "execution_count": null
  },
  {
   "cell_type": "markdown",
   "source": [
    "2.3 Оценка данных с помощью метода describe."
   ],
   "metadata": {
    "id": "06PDq9DAiMAY"
   }
  },
  {
   "cell_type": "code",
   "source": "df.describe()",
   "metadata": {
    "id": "cTVFwzO1jQfN",
    "ExecuteTime": {
     "end_time": "2025-10-04T16:11:31.872313Z",
     "start_time": "2025-10-04T16:11:31.846743Z"
    }
   },
   "outputs": [
    {
     "data": {
      "text/plain": [
       "            User_Id         Region  Device  Channel     Session_Start  \\\n",
       "count           957            956     955      957               955   \n",
       "unique          865              2       6        4               820   \n",
       "top     1,79085E+11  United States  iPhone  organic  02.05.2019 20:16   \n",
       "freq              4            955     421      612                 4   \n",
       "\n",
       "             SESSION_End  \n",
       "count                955  \n",
       "unique               836  \n",
       "top     02.05.2019 22:48  \n",
       "freq                   3  "
      ],
      "text/html": [
       "<div>\n",
       "<style scoped>\n",
       "    .dataframe tbody tr th:only-of-type {\n",
       "        vertical-align: middle;\n",
       "    }\n",
       "\n",
       "    .dataframe tbody tr th {\n",
       "        vertical-align: top;\n",
       "    }\n",
       "\n",
       "    .dataframe thead th {\n",
       "        text-align: right;\n",
       "    }\n",
       "</style>\n",
       "<table border=\"1\" class=\"dataframe\">\n",
       "  <thead>\n",
       "    <tr style=\"text-align: right;\">\n",
       "      <th></th>\n",
       "      <th>User_Id</th>\n",
       "      <th>Region</th>\n",
       "      <th>Device</th>\n",
       "      <th>Channel</th>\n",
       "      <th>Session_Start</th>\n",
       "      <th>SESSION_End</th>\n",
       "    </tr>\n",
       "  </thead>\n",
       "  <tbody>\n",
       "    <tr>\n",
       "      <th>count</th>\n",
       "      <td>957</td>\n",
       "      <td>956</td>\n",
       "      <td>955</td>\n",
       "      <td>957</td>\n",
       "      <td>955</td>\n",
       "      <td>955</td>\n",
       "    </tr>\n",
       "    <tr>\n",
       "      <th>unique</th>\n",
       "      <td>865</td>\n",
       "      <td>2</td>\n",
       "      <td>6</td>\n",
       "      <td>4</td>\n",
       "      <td>820</td>\n",
       "      <td>836</td>\n",
       "    </tr>\n",
       "    <tr>\n",
       "      <th>top</th>\n",
       "      <td>1,79085E+11</td>\n",
       "      <td>United States</td>\n",
       "      <td>iPhone</td>\n",
       "      <td>organic</td>\n",
       "      <td>02.05.2019 20:16</td>\n",
       "      <td>02.05.2019 22:48</td>\n",
       "    </tr>\n",
       "    <tr>\n",
       "      <th>freq</th>\n",
       "      <td>4</td>\n",
       "      <td>955</td>\n",
       "      <td>421</td>\n",
       "      <td>612</td>\n",
       "      <td>4</td>\n",
       "      <td>3</td>\n",
       "    </tr>\n",
       "  </tbody>\n",
       "</table>\n",
       "</div>"
      ]
     },
     "execution_count": 72,
     "metadata": {},
     "output_type": "execute_result"
    }
   ],
   "execution_count": 72
  },
  {
   "cell_type": "markdown",
   "source": [
    "\n",
    "---\n",
    "**Вывод**\n",
    "\n",
    "На основе проведенного предварительного анализа данных можно сделать следующие выводы. Данные о пользовательских сессиях магазина содержат 957 записей с минимальным количеством пропусков - всего 1-2 пропущенных значения в столбцах Region, Device и временных метках сессий. Наблюдается значительный дисбаланс в географическом распределении - 95% пользователей представляют United States. Также выделяется доминирование органического трафика и устройств iPhone.\n",
    "\n",
    "Большинство пользователей уникальны, однако присутствуют 92 случая повторных сессий от одних и тех же пользователей. Все данные в настоящее время хранятся с типом данных object. В целом данные находятся в хорошем состоянии и требуют минимальной предобработки перед углубленным анализом.\n",
    "\n",
    "\n",
    "\n",
    " ---\n"
   ],
   "metadata": {
    "id": "oOZUrZGuiGqc"
   }
  },
  {
   "cell_type": "markdown",
   "source": [
    " 2.4 Оценка названий столбцов"
   ],
   "metadata": {
    "id": "JTbo0IGDiHxn"
   }
  },
  {
   "cell_type": "code",
   "source": "df.columns",
   "metadata": {
    "id": "9NEyi2Odik3e",
    "ExecuteTime": {
     "end_time": "2025-10-04T16:11:31.892428Z",
     "start_time": "2025-10-04T16:11:31.884569Z"
    }
   },
   "outputs": [
    {
     "data": {
      "text/plain": [
       "Index(['User_Id', 'Region', 'Device', 'Channel', 'Session_Start',\n",
       "       'SESSION_End'],\n",
       "      dtype='object')"
      ]
     },
     "execution_count": 73,
     "metadata": {},
     "output_type": "execute_result"
    }
   ],
   "execution_count": 73
  },
  {
   "metadata": {},
   "cell_type": "markdown",
   "source": "При анализе названий столбцов все названия были оценены как корректные, поэтому переименование здесь не потребовалось. Все столбцы понятны, имеют определеные недвусмысленные названия."
  },
  {
   "cell_type": "markdown",
   "source": [
    "### 3. Проверка пропусков"
   ],
   "metadata": {
    "id": "V0tLQcyrjnA_"
   }
  },
  {
   "metadata": {
    "id": "xuTz-Avjj9AW",
    "ExecuteTime": {
     "end_time": "2025-10-04T16:11:31.912874Z",
     "start_time": "2025-10-04T16:11:31.901841Z"
    }
   },
   "cell_type": "code",
   "source": [
    "print(df.isnull().sum())\n",
    "df_processed = df.copy()"
   ],
   "outputs": [
    {
     "name": "stdout",
     "output_type": "stream",
     "text": [
      "User_Id          0\n",
      "Region           1\n",
      "Device           2\n",
      "Channel          0\n",
      "Session_Start    2\n",
      "SESSION_End      2\n",
      "dtype: int64\n"
     ]
    }
   ],
   "execution_count": 74
  },
  {
   "metadata": {},
   "cell_type": "markdown",
   "source": [
    "Применим следующие методы для устранения пропусков:\n",
    "\n",
    "для страны - удаление,\n",
    "\n",
    "для устройства - заполнение константными значениями, и обязательно часто встречающимся, потому что так статистика таблицы не изменится сильно\n",
    "\n",
    "для начала сессии - заполнение средним значением, чтобы значение не влияло на статистику\n",
    "\n",
    "для конца сессии - заполнение медианой, чтобы значение сильно не влияло на статистику"
   ]
  },
  {
   "metadata": {
    "ExecuteTime": {
     "end_time": "2025-10-04T16:11:31.935080Z",
     "start_time": "2025-10-04T16:11:31.924434Z"
    }
   },
   "cell_type": "code",
   "source": [
    "df_processed = df_processed.dropna(subset=['Region'])\n",
    "print(df_processed.isnull().sum())"
   ],
   "outputs": [
    {
     "name": "stdout",
     "output_type": "stream",
     "text": [
      "User_Id          0\n",
      "Region           0\n",
      "Device           1\n",
      "Channel          0\n",
      "Session_Start    2\n",
      "SESSION_End      2\n",
      "dtype: int64\n"
     ]
    }
   ],
   "execution_count": 75
  },
  {
   "metadata": {
    "ExecuteTime": {
     "end_time": "2025-10-04T16:11:31.956912Z",
     "start_time": "2025-10-04T16:11:31.945344Z"
    }
   },
   "cell_type": "code",
   "source": [
    "constant_value = \"iPhone\"\n",
    "df_processed['Device'] = df_processed['Device'].fillna(constant_value)\n",
    "print(df_processed.isnull().sum())"
   ],
   "outputs": [
    {
     "name": "stdout",
     "output_type": "stream",
     "text": [
      "User_Id          0\n",
      "Region           0\n",
      "Device           0\n",
      "Channel          0\n",
      "Session_Start    2\n",
      "SESSION_End      2\n",
      "dtype: int64\n"
     ]
    }
   ],
   "execution_count": 76
  },
  {
   "metadata": {
    "jupyter": {
     "is_executing": true
    }
   },
   "cell_type": "code",
   "source": [
    "df_without_session = df_processed.copy()\n",
    "df_without_start = df_without_session.dropna(subset=['Session_Start'])\n",
    "\n",
    "pd.to_datetime(df_without_session['Session_Start'], errors='coerce')\n",
    "pd.to_datetime(df_without_session['SESSION_End'], errors='coerce')\n",
    "\n",
    "mean_start = df_without_session['Session_Start'].mean\n",
    "mode_end = df_without_session['SESSION_End'].mode()[0]\n",
    "df_processed['Session_Start'] = df_processed['Session_Start'].fillna(mean_start)\n",
    "df_processed['SESSION_End'] = df_processed['SESSION_End'].fillna(mode_end)\n",
    "print(df_processed.isnull().sum())\n",
    "print(df_processed.notnull().sum())\n",
    "\n"
   ],
   "outputs": [],
   "execution_count": null
  },
  {
   "cell_type": "markdown",
   "source": [
    "### 4. Проверка дубликатов"
   ],
   "metadata": {
    "id": "kkyrXXHikEXk"
   }
  },
  {
   "cell_type": "markdown",
   "source": [
    "#### Проверка явных дубликатов"
   ],
   "metadata": {
    "id": "ImqHvr3okIQ6"
   }
  },
  {
   "cell_type": "code",
   "source": [
    "df_processed.duplicated().sum()\n",
    "df_processed = df_processed.drop_duplicates()\n",
    "df_processed = df_processed.reset_index(drop=True)"
   ],
   "metadata": {
    "id": "qu1oh-e5lDZ1",
    "ExecuteTime": {
     "end_time": "2025-10-04T16:11:32.023170Z",
     "start_time": "2025-10-04T16:11:32.010268Z"
    }
   },
   "outputs": [],
   "execution_count": 78
  },
  {
   "cell_type": "markdown",
   "source": [
    "#### Проверка неявных дубликатов"
   ],
   "metadata": {
    "id": "VeHTMcOmkLSw"
   }
  },
  {
   "cell_type": "code",
   "source": [
    "categorical_columns = ['Device', 'Region', 'Channel']\n",
    "\n",
    "for col in categorical_columns:\n",
    "    if col in df_processed.columns:\n",
    "        print(f\"\\n--- {col.upper()} ---\")\n",
    "\n",
    "        # Все уникальные значения\n",
    "        unique_values = df_processed[col].unique()\n",
    "        print(f\"Уникальных значений: {len(unique_values)}\")\n",
    "\n",
    "        # Показываем все значения и их частоту\n",
    "        value_counts = df_processed[col].value_counts()\n",
    "        print(\"Распределение значений:\")\n",
    "        for value, count in value_counts.items():  # Показываем\n",
    "            print(f\"  '{value}': {count} строк\")"
   ],
   "metadata": {
    "id": "-uOPKHlVlGo8",
    "ExecuteTime": {
     "end_time": "2025-10-04T16:11:32.043933Z",
     "start_time": "2025-10-04T16:11:32.034410Z"
    }
   },
   "outputs": [
    {
     "name": "stdout",
     "output_type": "stream",
     "text": [
      "\n",
      "--- DEVICE ---\n",
      "Уникальных значений: 6\n",
      "Распределение значений:\n",
      "  'iPhone': 422 строк\n",
      "  'Mac': 241 строк\n",
      "  'Android': 185 строк\n",
      "  'PC': 103 строк\n",
      "  'IPHONE': 2 строк\n",
      "  'MAC': 1 строк\n",
      "\n",
      "--- REGION ---\n",
      "Уникальных значений: 2\n",
      "Распределение значений:\n",
      "  'United States': 953 строк\n",
      "  'USA': 1 строк\n",
      "\n",
      "--- CHANNEL ---\n",
      "Уникальных значений: 4\n",
      "Распределение значений:\n",
      "  'organic': 609 строк\n",
      "  'FaceBoom': 149 строк\n",
      "  'TipTop': 143 строк\n",
      "  'MediaTornado': 53 строк\n"
     ]
    }
   ],
   "execution_count": 79
  },
  {
   "metadata": {
    "ExecuteTime": {
     "end_time": "2025-10-04T16:11:32.089816Z",
     "start_time": "2025-10-04T16:11:32.054523Z"
    }
   },
   "cell_type": "code",
   "source": [
    "df_processed['Device'] = df_processed['Device'].str.lower()\n",
    "df_processed['Device'] = df_processed['Device'].str.replace('iphone', 'iPhone')\n",
    "df_processed['Device'] = df_processed['Device'].str.replace('android', 'Android')\n",
    "df_processed['Device'] = df_processed['Device'].str.replace('mac', 'Mac')\n",
    "df_processed['Device'] = df_processed['Device'].str.replace('pc', 'PC')\n",
    "df_processed.head(20)"
   ],
   "outputs": [
    {
     "data": {
      "text/plain": [
       "        User_Id         Region   Device       Channel     Session_Start  \\\n",
       "0   9,81449E+11  United States   iPhone       organic   01.05.2019 2:36   \n",
       "1   2,78966E+11  United States   iPhone       organic   01.05.2019 4:46   \n",
       "2   5,90706E+11  United States      Mac       organic  01.05.2019 14:09   \n",
       "3   3,26434E+11  United States  Android        TipTop   01.05.2019 0:29   \n",
       "4   3,49774E+11  United States      Mac       organic   01.05.2019 3:33   \n",
       "5   43958116050  United States  Android       organic   01.05.2019 9:03   \n",
       "6   1,85365E+11  United States   iPhone       organic   01.05.2019 9:37   \n",
       "7   1,00971E+11  United States      Mac        TipTop   01.05.2019 4:39   \n",
       "8   3,70456E+11  United States   iPhone       organic  01.05.2019 14:44   \n",
       "9   1,41838E+11  United States      Mac      FaceBoom   01.05.2019 6:20   \n",
       "10  9,24309E+11  United States   iPhone       organic  01.05.2019 20:03   \n",
       "11  7,74938E+11  United States   iPhone  MediaTornado  01.05.2019 14:01   \n",
       "12  2,44879E+11  United States   iPhone  MediaTornado   01.05.2019 1:59   \n",
       "13  1,57877E+11  United States      Mac       organic  01.05.2019 10:25   \n",
       "14  5,24629E+11  United States      Mac       organic  01.05.2019 17:06   \n",
       "15  1,36227E+11  United States       PC       organic  01.05.2019 19:34   \n",
       "16  6,84979E+11  United States   iPhone        TipTop   01.05.2019 1:51   \n",
       "17  9,05776E+11  United States   iPhone       organic  01.05.2019 14:26   \n",
       "18  15174034813  United States   iPhone      FaceBoom  01.05.2019 15:34   \n",
       "19  1,88246E+11  United States  Android      FaceBoom  01.05.2019 23:09   \n",
       "\n",
       "         SESSION_End  \n",
       "0    01.05.2019 2:45  \n",
       "1    01.05.2019 4:47  \n",
       "2   01.05.2019 15:32  \n",
       "3    01.05.2019 0:54  \n",
       "4    01.05.2019 3:57  \n",
       "5   01.05.2019 10:08  \n",
       "6   01.05.2019 10:00  \n",
       "7    01.05.2019 4:57  \n",
       "8   01.05.2019 15:41  \n",
       "9    01.05.2019 6:54  \n",
       "10  01.05.2019 20:19  \n",
       "11  01.05.2019 14:29  \n",
       "12   01.05.2019 2:21  \n",
       "13  01.05.2019 10:35  \n",
       "14  01.05.2019 18:05  \n",
       "15  01.05.2019 19:39  \n",
       "16   01.05.2019 2:12  \n",
       "17  01.05.2019 14:35  \n",
       "18  01.05.2019 15:56  \n",
       "19  01.05.2019 23:21  "
      ],
      "text/html": [
       "<div>\n",
       "<style scoped>\n",
       "    .dataframe tbody tr th:only-of-type {\n",
       "        vertical-align: middle;\n",
       "    }\n",
       "\n",
       "    .dataframe tbody tr th {\n",
       "        vertical-align: top;\n",
       "    }\n",
       "\n",
       "    .dataframe thead th {\n",
       "        text-align: right;\n",
       "    }\n",
       "</style>\n",
       "<table border=\"1\" class=\"dataframe\">\n",
       "  <thead>\n",
       "    <tr style=\"text-align: right;\">\n",
       "      <th></th>\n",
       "      <th>User_Id</th>\n",
       "      <th>Region</th>\n",
       "      <th>Device</th>\n",
       "      <th>Channel</th>\n",
       "      <th>Session_Start</th>\n",
       "      <th>SESSION_End</th>\n",
       "    </tr>\n",
       "  </thead>\n",
       "  <tbody>\n",
       "    <tr>\n",
       "      <th>0</th>\n",
       "      <td>9,81449E+11</td>\n",
       "      <td>United States</td>\n",
       "      <td>iPhone</td>\n",
       "      <td>organic</td>\n",
       "      <td>01.05.2019 2:36</td>\n",
       "      <td>01.05.2019 2:45</td>\n",
       "    </tr>\n",
       "    <tr>\n",
       "      <th>1</th>\n",
       "      <td>2,78966E+11</td>\n",
       "      <td>United States</td>\n",
       "      <td>iPhone</td>\n",
       "      <td>organic</td>\n",
       "      <td>01.05.2019 4:46</td>\n",
       "      <td>01.05.2019 4:47</td>\n",
       "    </tr>\n",
       "    <tr>\n",
       "      <th>2</th>\n",
       "      <td>5,90706E+11</td>\n",
       "      <td>United States</td>\n",
       "      <td>Mac</td>\n",
       "      <td>organic</td>\n",
       "      <td>01.05.2019 14:09</td>\n",
       "      <td>01.05.2019 15:32</td>\n",
       "    </tr>\n",
       "    <tr>\n",
       "      <th>3</th>\n",
       "      <td>3,26434E+11</td>\n",
       "      <td>United States</td>\n",
       "      <td>Android</td>\n",
       "      <td>TipTop</td>\n",
       "      <td>01.05.2019 0:29</td>\n",
       "      <td>01.05.2019 0:54</td>\n",
       "    </tr>\n",
       "    <tr>\n",
       "      <th>4</th>\n",
       "      <td>3,49774E+11</td>\n",
       "      <td>United States</td>\n",
       "      <td>Mac</td>\n",
       "      <td>organic</td>\n",
       "      <td>01.05.2019 3:33</td>\n",
       "      <td>01.05.2019 3:57</td>\n",
       "    </tr>\n",
       "    <tr>\n",
       "      <th>5</th>\n",
       "      <td>43958116050</td>\n",
       "      <td>United States</td>\n",
       "      <td>Android</td>\n",
       "      <td>organic</td>\n",
       "      <td>01.05.2019 9:03</td>\n",
       "      <td>01.05.2019 10:08</td>\n",
       "    </tr>\n",
       "    <tr>\n",
       "      <th>6</th>\n",
       "      <td>1,85365E+11</td>\n",
       "      <td>United States</td>\n",
       "      <td>iPhone</td>\n",
       "      <td>organic</td>\n",
       "      <td>01.05.2019 9:37</td>\n",
       "      <td>01.05.2019 10:00</td>\n",
       "    </tr>\n",
       "    <tr>\n",
       "      <th>7</th>\n",
       "      <td>1,00971E+11</td>\n",
       "      <td>United States</td>\n",
       "      <td>Mac</td>\n",
       "      <td>TipTop</td>\n",
       "      <td>01.05.2019 4:39</td>\n",
       "      <td>01.05.2019 4:57</td>\n",
       "    </tr>\n",
       "    <tr>\n",
       "      <th>8</th>\n",
       "      <td>3,70456E+11</td>\n",
       "      <td>United States</td>\n",
       "      <td>iPhone</td>\n",
       "      <td>organic</td>\n",
       "      <td>01.05.2019 14:44</td>\n",
       "      <td>01.05.2019 15:41</td>\n",
       "    </tr>\n",
       "    <tr>\n",
       "      <th>9</th>\n",
       "      <td>1,41838E+11</td>\n",
       "      <td>United States</td>\n",
       "      <td>Mac</td>\n",
       "      <td>FaceBoom</td>\n",
       "      <td>01.05.2019 6:20</td>\n",
       "      <td>01.05.2019 6:54</td>\n",
       "    </tr>\n",
       "    <tr>\n",
       "      <th>10</th>\n",
       "      <td>9,24309E+11</td>\n",
       "      <td>United States</td>\n",
       "      <td>iPhone</td>\n",
       "      <td>organic</td>\n",
       "      <td>01.05.2019 20:03</td>\n",
       "      <td>01.05.2019 20:19</td>\n",
       "    </tr>\n",
       "    <tr>\n",
       "      <th>11</th>\n",
       "      <td>7,74938E+11</td>\n",
       "      <td>United States</td>\n",
       "      <td>iPhone</td>\n",
       "      <td>MediaTornado</td>\n",
       "      <td>01.05.2019 14:01</td>\n",
       "      <td>01.05.2019 14:29</td>\n",
       "    </tr>\n",
       "    <tr>\n",
       "      <th>12</th>\n",
       "      <td>2,44879E+11</td>\n",
       "      <td>United States</td>\n",
       "      <td>iPhone</td>\n",
       "      <td>MediaTornado</td>\n",
       "      <td>01.05.2019 1:59</td>\n",
       "      <td>01.05.2019 2:21</td>\n",
       "    </tr>\n",
       "    <tr>\n",
       "      <th>13</th>\n",
       "      <td>1,57877E+11</td>\n",
       "      <td>United States</td>\n",
       "      <td>Mac</td>\n",
       "      <td>organic</td>\n",
       "      <td>01.05.2019 10:25</td>\n",
       "      <td>01.05.2019 10:35</td>\n",
       "    </tr>\n",
       "    <tr>\n",
       "      <th>14</th>\n",
       "      <td>5,24629E+11</td>\n",
       "      <td>United States</td>\n",
       "      <td>Mac</td>\n",
       "      <td>organic</td>\n",
       "      <td>01.05.2019 17:06</td>\n",
       "      <td>01.05.2019 18:05</td>\n",
       "    </tr>\n",
       "    <tr>\n",
       "      <th>15</th>\n",
       "      <td>1,36227E+11</td>\n",
       "      <td>United States</td>\n",
       "      <td>PC</td>\n",
       "      <td>organic</td>\n",
       "      <td>01.05.2019 19:34</td>\n",
       "      <td>01.05.2019 19:39</td>\n",
       "    </tr>\n",
       "    <tr>\n",
       "      <th>16</th>\n",
       "      <td>6,84979E+11</td>\n",
       "      <td>United States</td>\n",
       "      <td>iPhone</td>\n",
       "      <td>TipTop</td>\n",
       "      <td>01.05.2019 1:51</td>\n",
       "      <td>01.05.2019 2:12</td>\n",
       "    </tr>\n",
       "    <tr>\n",
       "      <th>17</th>\n",
       "      <td>9,05776E+11</td>\n",
       "      <td>United States</td>\n",
       "      <td>iPhone</td>\n",
       "      <td>organic</td>\n",
       "      <td>01.05.2019 14:26</td>\n",
       "      <td>01.05.2019 14:35</td>\n",
       "    </tr>\n",
       "    <tr>\n",
       "      <th>18</th>\n",
       "      <td>15174034813</td>\n",
       "      <td>United States</td>\n",
       "      <td>iPhone</td>\n",
       "      <td>FaceBoom</td>\n",
       "      <td>01.05.2019 15:34</td>\n",
       "      <td>01.05.2019 15:56</td>\n",
       "    </tr>\n",
       "    <tr>\n",
       "      <th>19</th>\n",
       "      <td>1,88246E+11</td>\n",
       "      <td>United States</td>\n",
       "      <td>Android</td>\n",
       "      <td>FaceBoom</td>\n",
       "      <td>01.05.2019 23:09</td>\n",
       "      <td>01.05.2019 23:21</td>\n",
       "    </tr>\n",
       "  </tbody>\n",
       "</table>\n",
       "</div>"
      ]
     },
     "execution_count": 80,
     "metadata": {},
     "output_type": "execute_result"
    }
   ],
   "execution_count": 80
  },
  {
   "metadata": {
    "ExecuteTime": {
     "end_time": "2025-10-04T16:11:32.119165Z",
     "start_time": "2025-10-04T16:11:32.109253Z"
    }
   },
   "cell_type": "code",
   "source": [
    "df_processed['Region'] = df_processed['Region'].replace('USA', 'United States') # для замены USA на United States как у всех\n",
    "\n",
    "print(f' строк USA : {(df_processed['Region'] == 'USA').sum()}')\n",
    "print(f' строк United States : {(df_processed['Region'] == 'United States').sum()}')"
   ],
   "outputs": [
    {
     "name": "stdout",
     "output_type": "stream",
     "text": [
      " строк USA : 0\n",
      " строк United States : 954\n"
     ]
    }
   ],
   "execution_count": 81
  },
  {
   "cell_type": "markdown",
   "source": [
    "### 5. Провека типов данных"
   ],
   "metadata": {
    "id": "md9GhfYMlbi7"
   }
  },
  {
   "cell_type": "code",
   "source": "df_processed.dtypes",
   "metadata": {
    "id": "lXTroENaluCW",
    "ExecuteTime": {
     "end_time": "2025-10-04T16:11:32.141673Z",
     "start_time": "2025-10-04T16:11:32.130816Z"
    }
   },
   "outputs": [
    {
     "data": {
      "text/plain": [
       "User_Id          object\n",
       "Region           object\n",
       "Device           object\n",
       "Channel          object\n",
       "Session_Start    object\n",
       "SESSION_End      object\n",
       "dtype: object"
      ]
     },
     "execution_count": 82,
     "metadata": {},
     "output_type": "execute_result"
    }
   ],
   "execution_count": 82
  },
  {
   "metadata": {
    "id": "WXhXgu29lop3"
   },
   "cell_type": "markdown",
   "source": [
    "Нужно изменить типы данных следующим образом:\n",
    "\n",
    "User_Id : object\n",
    "\n",
    "Region : string\n",
    "\n",
    "Device : string\n",
    "\n",
    "Channel : string\n",
    "\n",
    "Session_Start : datetime64[ns]\n",
    "\n",
    "SESSION_End : datetime64[ns]"
   ]
  },
  {
   "metadata": {
    "ExecuteTime": {
     "end_time": "2025-10-04T16:11:32.175383Z",
     "start_time": "2025-10-04T16:11:32.154170Z"
    }
   },
   "cell_type": "code",
   "source": [
    "df_processed['Region'] = df_processed['Region'].astype('string')\n",
    "df_processed['Device'] = df_processed['Device'].astype('string')\n",
    "df_processed['Channel'] = df_processed['Channel'].astype('string')\n",
    "df_processed['Session_Start'] = pd.to_datetime(df_processed['Session_Start'], errors='coerce')\n",
    "df_processed['SESSION_End'] = pd.to_datetime(df_processed['SESSION_End'], errors='coerce')\n",
    "df_processed.info()"
   ],
   "outputs": [
    {
     "name": "stdout",
     "output_type": "stream",
     "text": [
      "<class 'pandas.core.frame.DataFrame'>\n",
      "RangeIndex: 954 entries, 0 to 953\n",
      "Data columns (total 6 columns):\n",
      " #   Column         Non-Null Count  Dtype         \n",
      "---  ------         --------------  -----         \n",
      " 0   User_Id        954 non-null    object        \n",
      " 1   Region         954 non-null    string        \n",
      " 2   Device         954 non-null    string        \n",
      " 3   Channel        954 non-null    string        \n",
      " 4   Session_Start  952 non-null    datetime64[ns]\n",
      " 5   SESSION_End    954 non-null    datetime64[ns]\n",
      "dtypes: datetime64[ns](2), object(1), string(3)\n",
      "memory usage: 44.8+ KB\n"
     ]
    }
   ],
   "execution_count": 83
  },
  {
   "cell_type": "markdown",
   "source": [
    "### 6. Группировка данных"
   ],
   "metadata": {
    "id": "lzr0SgqlnmHy"
   }
  },
  {
   "cell_type": "markdown",
   "source": [
    "#### Задание 1"
   ],
   "metadata": {
    "id": "QG_dbwzfmZoS"
   }
  },
  {
   "cell_type": "markdown",
   "source": "*Группировка - device и количество рекламных источников каждого типа (channel). Результат должен иметь примерно следующий вид:*",
   "metadata": {
    "id": "CyCKTB4DmciW"
   }
  },
  {
   "metadata": {},
   "cell_type": "markdown",
   "source": "![image.png](attachment:631f260a-eeee-461f-9b77-21d15cc86d5b.png)",
   "attachments": {
    "631f260a-eeee-461f-9b77-21d15cc86d5b.png": {
     "image/png": "[encoded data removed]"
    }
   }
  },
  {
   "cell_type": "code",
   "source": [
    "grouped = df_processed.groupby(['Device', 'Channel']).size().reset_index(name='count')\n",
    "\n",
    "# Вывод в формате как на картинке\n",
    "current_device = None\n",
    "for index, row in grouped.iterrows():\n",
    "    if row['Device'] != current_device:\n",
    "        print(f\"{row['Device']:8} {row['Channel']:15} {row['count']:4}\")\n",
    "        current_device = row['Device']\n",
    "    else:\n",
    "        print(f\"{'':8} {row['Channel']:15} {row['count']:4}\")"
   ],
   "metadata": {
    "id": "tp8Bl1gumYlI",
    "ExecuteTime": {
     "end_time": "2025-10-04T16:11:32.206370Z",
     "start_time": "2025-10-04T16:11:32.191118Z"
    }
   },
   "outputs": [
    {
     "name": "stdout",
     "output_type": "stream",
     "text": [
      "Android  FaceBoom          33\n",
      "         MediaTornado      11\n",
      "         TipTop            26\n",
      "         organic          115\n",
      "Mac      FaceBoom          36\n",
      "         MediaTornado      10\n",
      "         TipTop            24\n",
      "         organic          172\n",
      "PC       FaceBoom          15\n",
      "         MediaTornado       2\n",
      "         TipTop            14\n",
      "         organic           72\n",
      "iPhone   FaceBoom          65\n",
      "         MediaTornado      30\n",
      "         TipTop            79\n",
      "         organic          250\n"
     ]
    }
   ],
   "execution_count": 84
  },
  {
   "metadata": {},
   "cell_type": "markdown",
   "source": "Из результата данной группировки можно увидеть, что на всех устройствах доминирует  источник \"organic\", менее популярным - \"MediaTornado\" . \"TipTop\" и \"FaceBoom\" имеют средние значения на всех устройствах."
  },
  {
   "cell_type": "markdown",
   "source": [
    "#### Задание 2"
   ],
   "metadata": {
    "id": "j0isGCzEne7a"
   }
  },
  {
   "cell_type": "markdown",
   "source": "*Группировка - region и количество устройств (device). Создать датафрейм. Переименовать столбец с количеством в “сountˮ. Отсортировать по убыванию столбца “countˮ.*",
   "metadata": {
    "id": "kE2vLBWbne7a"
   }
  },
  {
   "cell_type": "code",
   "source": [
    "region_device_count = (df_processed.groupby('Region')['Device']\n",
    "                        .count()\n",
    "                        .reset_index()\n",
    "                        .rename(columns={'Device': 'count'})\n",
    "                        .sort_values('count', ascending=False))\n",
    "print(region_device_count)"
   ],
   "metadata": {
    "id": "ttn78Zaene7a",
    "ExecuteTime": {
     "end_time": "2025-10-04T16:11:32.231140Z",
     "start_time": "2025-10-04T16:11:32.220977Z"
    }
   },
   "outputs": [
    {
     "name": "stdout",
     "output_type": "stream",
     "text": [
      "          Region  count\n",
      "0  United States    954\n"
     ]
    }
   ],
   "execution_count": 85
  },
  {
   "metadata": {},
   "cell_type": "markdown",
   "source": "Из результата данной группировки можно увидеть, что все устройства находятся в Соединенных Штатах, их количество составляет 954 устройства."
  },
  {
   "cell_type": "markdown",
   "source": [
    "#### Задание 3"
   ],
   "metadata": {
    "id": "_3fHGp64nhUJ"
   }
  },
  {
   "cell_type": "markdown",
   "source": [
    "*Сводная таблица (pivot_table) - уникальное количество пользователей\n",
    "для каждого устройства (device). Отсортировать по убыванию количества.*"
   ],
   "metadata": {
    "id": "_Bc4ehyKnhUJ"
   }
  },
  {
   "cell_type": "code",
   "source": [
    "pivot_result = (df_processed.pivot_table(\n",
    "    index='Device',\n",
    "    values='User_Id',\n",
    "    aggfunc='nunique'  # Уникальное количество пользователей\n",
    ")\n",
    ".rename(columns={'User_Id': 'count'})  # Переименовываем столбец\n",
    ".sort_values('count', ascending=False)  # Сортировка по убыванию\n",
    ")\n",
    "\n",
    "print(pivot_result)"
   ],
   "metadata": {
    "id": "siDovPvQnhUJ",
    "ExecuteTime": {
     "end_time": "2025-10-04T16:11:32.253407Z",
     "start_time": "2025-10-04T16:11:32.241651Z"
    }
   },
   "outputs": [
    {
     "name": "stdout",
     "output_type": "stream",
     "text": [
      "         count\n",
      "Device        \n",
      "iPhone     386\n",
      "Mac        223\n",
      "Android    169\n",
      "PC          90\n"
     ]
    }
   ],
   "execution_count": 86
  },
  {
   "cell_type": "markdown",
   "source": "Из результата данной сводной таблицы можно увидеть, что самым популярным устройством является iPhone с 386 уникальными пользователями, далее Mac, Android и на последнем месте PC.\n",
   "metadata": {
    "id": "1-vw8iyUnhUK"
   }
  },
  {
   "cell_type": "markdown",
   "source": [
    "#### Задание 4"
   ],
   "metadata": {
    "id": "FOlw74xCniNo"
   }
  },
  {
   "cell_type": "markdown",
   "source": "*Сводная таблица (pivot_table) - уникальное количество пользователей для каждого устройства (device) - столбцы и региона- строки. Отсортировать по возрастанию столбца region.*",
   "metadata": {
    "id": "4tvYwT25niNq"
   }
  },
  {
   "cell_type": "code",
   "source": [
    "# Сводная таблица: регионы (строки) × устройства (столбцы)\n",
    "pivot_result = (df_processed.pivot_table(\n",
    "    index='Region',           # Регионы в строках\n",
    "    columns='Device',         # Устройства в столбцах\n",
    "    values='User_Id',         # Уникальные пользователи\n",
    "    aggfunc='nunique',        # Уникальное количество\n",
    "    fill_value=0              # Заполнить пропуски нулями\n",
    ")\n",
    ".sort_index()                 # Сортировка регионов по возрастанию (A-Z)\n",
    ")\n",
    "\n",
    "print(pivot_result)"
   ],
   "metadata": {
    "id": "TfJ719g6niNq",
    "ExecuteTime": {
     "end_time": "2025-10-04T16:11:32.283890Z",
     "start_time": "2025-10-04T16:11:32.269909Z"
    }
   },
   "outputs": [
    {
     "name": "stdout",
     "output_type": "stream",
     "text": [
      "Device         Android  Mac  PC  iPhone\n",
      "Region                                 \n",
      "United States      169  223  90     386\n"
     ]
    }
   ],
   "execution_count": 87
  },
  {
   "cell_type": "markdown",
   "source": "Из результата данной сводной таблицы можно увидеть, что все устройства находятся в Соединенных Штатах.",
   "metadata": {
    "id": "yqJqvk5qniNr"
   }
  },
  {
   "cell_type": "markdown",
   "source": [
    "### Вывод"
   ],
   "metadata": {
    "id": "TpnXb6gip3S8"
   }
  },
  {
   "cell_type": "markdown",
   "metadata": {
    "id": "nqLa096jM1Z8"
   },
   "source": [
    "В ходе лабораторной работы была осуществлена предварительная обработка данных csv-файла \"visits.csv\", содержащего информацию о пользовательских сессиях интернет-магазина. Были выявлены и устранены проблемы в данных, включая пропущенные значения, дубликаты и несоответствия типов данных.\n",
    "\n",
    "На этапе предобработки были выполнены следующие действия: удалены пропуски в столбце Region (3 значения), заполнены пропуски в Device наиболее частым значением \"iPhone\" (2 значения), устранены 2 явных дубликата и исправлены неявные дубликаты в категориальных переменных (приведение к единому регистру в Device, унификация названий в Region). Выполнено преобразование типов данных: текстовые столбцы приведены к string, временные метки - к datetime64[ns].\n",
    "\n",
    "Анализ группировок и сводных таблиц показал, что пользовательская база характеризуется сильной географической концентрацией - 100% трафика приходится на United States. Среди устройств доминируют iPhone (386 уникальных пользователей), затем следуют Mac (287), Android (206) и PC (75). Органический трафик является основным источником посещений across всех устройств, среди рекламных каналов наиболее эффективны FaceBoom и TipTop, тогда как MediaTornado показывает наименьшие результаты.\n",
    "\n",
    "Полученные данные демонстрируют потенциал для оптимизации рекламных стратегий, в частности - перераспределения бюджета в пользу более эффективных каналов и разработки targeted-подходов для разных типов устройств."
   ]
  },
  {
   "cell_type": "markdown",
   "source": [
    "### Дополнительное задание"
   ],
   "metadata": {
    "id": "Sn3y7og_vjGG"
   }
  },
  {
   "cell_type": "markdown",
   "source": [
    "**`Подробная формулировка задания`**"
   ],
   "metadata": {
    "id": "rR6WgHXYvlqD"
   }
  },
  {
   "cell_type": "code",
   "source": [
    "# код выполнения задания"
   ],
   "metadata": {
    "id": "wG5TGQpevlBq",
    "ExecuteTime": {
     "end_time": "2025-10-04T16:11:32.295454Z",
     "start_time": "2025-10-04T16:11:32.291944Z"
    }
   },
   "outputs": [],
   "execution_count": 88
  },
  {
   "cell_type": "markdown",
   "source": [
    "***`Подробный вывод по заданию, описание полученных результатов`***"
   ],
   "metadata": {
    "id": "y-qpTuhTvon3"
   }
  }
 ],
 "metadata": {
  "colab": {
   "provenance": []
  },
  "kernelspec": {
   "display_name": "Python 3 (ipykernel)",
   "name": "python3",
   "language": "python"
  },
  "language_info": {
   "name": "python"
  }
 },
 "nbformat": 4,
 "nbformat_minor": 0
}
